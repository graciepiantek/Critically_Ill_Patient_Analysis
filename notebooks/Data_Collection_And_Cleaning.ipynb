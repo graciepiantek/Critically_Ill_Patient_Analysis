{
 "cells": [
  {
   "cell_type": "code",
   "execution_count": 1,
   "id": "8cb44d44-12dc-4093-a97e-de3b4a4fbf06",
   "metadata": {},
   "outputs": [],
   "source": [
    "import os\n",
    "import pandas as pd\n",
    "from ucimlrepo import fetch_ucirepo \n",
    "\n",
    "support2 = fetch_ucirepo(id=880)\n",
    "X = support2.data.features\n",
    "Y = support2.data.targets\n",
    "\n",
    "support_2_df = pd.concat([X, Y], axis=1)"
   ]
  },
  {
   "cell_type": "code",
   "execution_count": 2,
   "id": "273d808a-28a9-48af-946f-91deb4e5bbcf",
   "metadata": {},
   "outputs": [],
   "source": [
    "support_2_df = support_2_df.fillna({\n",
    "    'alb': 3.5,\n",
    "    'pafi': 333.3,\n",
    "    'bili': 1.01,\n",
    "    'crea': 1.01, \n",
    "    'bun': 6.51, \n",
    "    'urine': 2502,\n",
    "    'wblc': 9\n",
    "})"
   ]
  },
  {
   "cell_type": "code",
   "execution_count": 3,
   "id": "508dd1d9-0c63-43ac-bd34-15edcf076cbb",
   "metadata": {},
   "outputs": [],
   "source": [
    "support_2_df = support_2_df.drop(['glucose'], axis=1)"
   ]
  },
  {
   "cell_type": "code",
   "execution_count": 4,
   "id": "92453dac-6ad4-4a5f-ba22-6886c8030d7d",
   "metadata": {},
   "outputs": [],
   "source": [
    "support_2_df['ards_severity'] = pd.cut(support_2_df['pafi'], \n",
    "                            bins=[0, 100, 200, 300, float('inf')],\n",
    "                            labels=['Severe', 'Moderate', 'Mild', 'None'],\n",
    "                            right=False)\n",
    "\n",
    "mortality_map = {\n",
    "    'Severe': '45%',\n",
    "    'Moderate': '32%',\n",
    "    'Mild': '27%',\n",
    "    'None': 'N/A'\n",
    "}\n",
    "support_2_df['mortality_risk'] = support_2_df['ards_severity'].map(mortality_map)"
   ]
  },
  {
   "cell_type": "code",
   "execution_count": 5,
   "id": "3427757c-88b9-4a1a-9a54-bcf674e9fb90",
   "metadata": {},
   "outputs": [],
   "source": [
    "directory = \"../data/\"\n",
    "filename = \"Support_2_Clean_Df.csv\"\n",
    "full_path = os.path.join(directory, filename)\n",
    "support_2_df.to_csv(full_path, index=False)"
   ]
  }
 ],
 "metadata": {
  "kernelspec": {
   "display_name": "Python 3 (ipykernel)",
   "language": "python",
   "name": "python3"
  },
  "language_info": {
   "codemirror_mode": {
    "name": "ipython",
    "version": 3
   },
   "file_extension": ".py",
   "mimetype": "text/x-python",
   "name": "python",
   "nbconvert_exporter": "python",
   "pygments_lexer": "ipython3",
   "version": "3.12.4"
  }
 },
 "nbformat": 4,
 "nbformat_minor": 5
}
